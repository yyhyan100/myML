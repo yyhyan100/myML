{
 "cells": [
  {
   "cell_type": "code",
   "execution_count": 1,
   "metadata": {},
   "outputs": [
    {
     "name": "stdout",
     "output_type": "stream",
     "text": [
      "[1, 2, 3]\n",
      "['overcast' 'rain' 'sunny']\n",
      "now next:\n",
      "subtree: overcast\n",
      "[['hot' 'high' 'weak']\n",
      " ['cool' 'normal' 'strong']\n",
      " ['mild' 'high' 'strong']\n",
      " ['hot' 'normal' 'weak']]\n",
      "leaf created: yes\n",
      "subtree: rain\n",
      "[['mild' 'high' 'weak']\n",
      " ['cool' 'normal' 'weak']\n",
      " ['cool' 'normal' 'strong']\n",
      " ['mild' 'normal' 'weak']\n",
      " ['mild' 'high' 'strong']]\n",
      "[1, 2]\n",
      "['strong' 'weak']\n",
      "now next:\n",
      "subtree: strong\n",
      "[['cool' 'normal']\n",
      " ['mild' 'high']]\n",
      "leaf created: no\n",
      "subtree: weak\n",
      "[['mild' 'high']\n",
      " ['cool' 'normal']\n",
      " ['mild' 'normal']]\n",
      "leaf created: yes\n",
      "subtree: sunny\n",
      "[['hot' 'high' 'weak']\n",
      " ['hot' 'high' 'strong']\n",
      " ['mild' 'high' 'weak']\n",
      " ['cool' 'normal' 'weak']\n",
      " ['mild' 'normal' 'strong']]\n",
      "[1, 3]\n",
      "['high' 'normal']\n",
      "now next:\n",
      "subtree: high\n",
      "[['hot' 'weak']\n",
      " ['hot' 'strong']\n",
      " ['mild' 'weak']]\n",
      "leaf created: no\n",
      "subtree: normal\n",
      "[['cool' 'weak']\n",
      " ['mild' 'strong']]\n",
      "leaf created: yes\n"
     ]
    }
   ],
   "source": [
    "from myML.decision_tree import *\n",
    "import numpy as np \n",
    "import pandas as pd \n",
    "\n",
    "ct=classification_tree()\n",
    "df=pd.read_excel(\"data/playtennis.xlsx\",index_col=0, header=0)\n",
    "X=df.iloc[:,:-1].values\n",
    "y=df.iloc[:,-1].values\n",
    "ct.train(X,y)"
   ]
  }
 ],
 "metadata": {
  "kernelspec": {
   "display_name": "Python 3",
   "language": "python",
   "name": "python3"
  },
  "language_info": {
   "codemirror_mode": {
    "name": "ipython",
    "version": 3
   },
   "file_extension": ".py",
   "mimetype": "text/x-python",
   "name": "python",
   "nbconvert_exporter": "python",
   "pygments_lexer": "ipython3",
   "version": "3.10.12"
  }
 },
 "nbformat": 4,
 "nbformat_minor": 2
}
