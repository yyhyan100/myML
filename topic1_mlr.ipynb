{
 "cells": [
  {
   "cell_type": "markdown",
   "metadata": {},
   "source": [
    "### Linear Regression using OLS"
   ]
  },
  {
   "cell_type": "code",
   "execution_count": 1,
   "metadata": {},
   "outputs": [
    {
     "name": "stdout",
     "output_type": "stream",
     "text": [
      "        price     size  year  view\n",
      "0  234314.144   643.09  2015   0.0\n",
      "1  228581.528   656.22  2009   0.0\n",
      "2  281626.336   487.29  2018   1.0\n",
      "3  401255.608  1504.75  2015   0.0\n",
      "4  458674.256  1275.46  2009   1.0\n"
     ]
    }
   ],
   "source": [
    "import numpy as np \n",
    "import pandas as pd \n",
    "# load the data, all the data files are in ./data/\n",
    "df=pd.read_excel(\"data/real_estate.xlsx\",header=0,index_col=None)\n",
    "df[\"view\"]=df[\"view\"].map({\"No sea view\":0.0,\"Sea view\":1.0})\n",
    "print(df.head())"
   ]
  },
  {
   "cell_type": "code",
   "execution_count": 2,
   "metadata": {},
   "outputs": [
    {
     "name": "stdout",
     "output_type": "stream",
     "text": [
      "(100, 3)\n",
      "(100,)\n"
     ]
    }
   ],
   "source": [
    "X_org=df.iloc[:,1:].values\n",
    "y_org=df.price.values\n",
    "print(X_org.shape)\n",
    "print(y_org.shape)"
   ]
  },
  {
   "cell_type": "code",
   "execution_count": 3,
   "metadata": {},
   "outputs": [
    {
     "name": "stdout",
     "output_type": "stream",
     "text": [
      "[-5.39791418e+06  2.23031619e+02  2.71894889e+03  5.67260198e+04]\n"
     ]
    }
   ],
   "source": [
    "from myML.MLR import linear_regression_OLS\n",
    "lr=linear_regression_OLS()\n",
    "lr.train(X_org,y_org)\n",
    "lr.print_coef()"
   ]
  },
  {
   "cell_type": "code",
   "execution_count": 4,
   "metadata": {},
   "outputs": [
    {
     "name": "stdout",
     "output_type": "stream",
     "text": [
      "[236889.96264513 268593.87161053]\n"
     ]
    }
   ],
   "source": [
    "x_predict=np.array([[700,2015,0],[600,2014,1]])\n",
    "print(lr.predict(x_predict))"
   ]
  },
  {
   "cell_type": "markdown",
   "metadata": {},
   "source": [
    "### Linear Regression using SGD"
   ]
  },
  {
   "cell_type": "code",
   "execution_count": 1,
   "metadata": {},
   "outputs": [
    {
     "name": "stdout",
     "output_type": "stream",
     "text": [
      "        price     size  year  view\n",
      "0  234314.144   643.09  2015   0.0\n",
      "1  228581.528   656.22  2009   0.0\n",
      "2  281626.336   487.29  2018   1.0\n",
      "3  401255.608  1504.75  2015   0.0\n",
      "4  458674.256  1275.46  2009   1.0\n",
      "(100, 3)\n",
      "(100,)\n",
      "[-3.37052130e+75 -2.35430910e+78 -6.79160043e+78  6.87352327e+67]\n"
     ]
    }
   ],
   "source": [
    "import numpy as np \n",
    "import pandas as pd \n",
    "# load the data, all the data files are in ./data/\n",
    "df=pd.read_excel(\"data/real_estate.xlsx\",header=0,index_col=None)\n",
    "df[\"view\"]=df[\"view\"].map({\"No sea view\":0.0,\"Sea view\":1.0})\n",
    "print(df.head())\n",
    "X_org=df.iloc[:,1:].values\n",
    "y_org=df.price.values\n",
    "print(X_org.shape)\n",
    "print(y_org.shape)\n",
    "from myML.MLR import linear_regression_SGD\n",
    "lr=linear_regression_SGD(eta=10,tol=0.01,max_iter=10)\n",
    "lr.train(X_org,y_org)\n",
    "lr.print_coef()"
   ]
  },
  {
   "cell_type": "code",
   "execution_count": 4,
   "metadata": {},
   "outputs": [
    {
     "data": {
      "text/plain": [
       "array([ 647.5, 2015. ,    0. ])"
      ]
     },
     "execution_count": 4,
     "metadata": {},
     "output_type": "execute_result"
    }
   ],
   "source": [
    "X_org[50,:]"
   ]
  },
  {
   "cell_type": "code",
   "execution_count": null,
   "metadata": {},
   "outputs": [],
   "source": []
  }
 ],
 "metadata": {
  "kernelspec": {
   "display_name": "Python 3",
   "language": "python",
   "name": "python3"
  },
  "language_info": {
   "codemirror_mode": {
    "name": "ipython",
    "version": 3
   },
   "file_extension": ".py",
   "mimetype": "text/x-python",
   "name": "python",
   "nbconvert_exporter": "python",
   "pygments_lexer": "ipython3",
   "version": "3.10.12"
  }
 },
 "nbformat": 4,
 "nbformat_minor": 2
}
