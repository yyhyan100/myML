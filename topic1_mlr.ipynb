{
 "cells": [
  {
   "cell_type": "markdown",
   "metadata": {},
   "source": [
    "### Linear Regression using OLS"
   ]
  },
  {
   "cell_type": "code",
   "execution_count": 1,
   "metadata": {},
   "outputs": [
    {
     "name": "stdout",
     "output_type": "stream",
     "text": [
      "        price     size  year  view\n",
      "0  234314.144   643.09  2015   0.0\n",
      "1  228581.528   656.22  2009   0.0\n",
      "2  281626.336   487.29  2018   1.0\n",
      "3  401255.608  1504.75  2015   0.0\n",
      "4  458674.256  1275.46  2009   1.0\n"
     ]
    }
   ],
   "source": [
    "import numpy as np \n",
    "import pandas as pd \n",
    "# load the data, all the data files are in ./data/\n",
    "df=pd.read_excel(\"data/real_estate.xlsx\",header=0,index_col=None)\n",
    "df[\"view\"]=df[\"view\"].map({\"No sea view\":0.0,\"Sea view\":1.0})\n",
    "print(df.head())"
   ]
  },
  {
   "cell_type": "code",
   "execution_count": 2,
   "metadata": {},
   "outputs": [
    {
     "name": "stdout",
     "output_type": "stream",
     "text": [
      "(100, 3)\n",
      "(100,)\n"
     ]
    }
   ],
   "source": [
    "X_org=df.iloc[:,1:].values\n",
    "y_org=df.price.values\n",
    "print(X_org.shape)\n",
    "print(y_org.shape)\n",
    "# split the data into training set and testing set\n",
    "from sklearn.model_selection import train_test_split \n",
    "X_train,X_test,y_train,y_test=train_test_split(X_org,y_org,test_size=0.2)"
   ]
  },
  {
   "cell_type": "code",
   "execution_count": 3,
   "metadata": {},
   "outputs": [
    {
     "name": "stdout",
     "output_type": "stream",
     "text": [
      "[-5.24815704e+06  2.15326171e+02  2.64825960e+03  5.48831886e+04]\n"
     ]
    }
   ],
   "source": [
    "from myML.MLR import linear_regression_OLS\n",
    "lr=linear_regression_OLS()\n",
    "lr.train(X_train,y_train)\n",
    "lr.print_coef()"
   ]
  },
  {
   "cell_type": "code",
   "execution_count": 7,
   "metadata": {},
   "outputs": [
    {
     "name": "stdout",
     "output_type": "stream",
     "text": [
      "MSE=528533343.190019\n",
      "[399265.64739468 318260.36660778 201306.71367338 208538.88030337\n",
      " 359463.14689365 292249.08258274 300519.76081494 202794.73496036\n",
      " 275866.52525695 266180.18250436 197930.51675506 274355.36031916\n",
      " 298515.8108489  292517.58062399 298515.8108489  368231.96526806\n",
      " 280681.64322627 441340.38122889 269495.0238539  185417.15604995]\n"
     ]
    }
   ],
   "source": [
    "y_pred=lr.predict(X_test)\n",
    "from sklearn.metrics import mean_squared_error \n",
    "mse=mean_squared_error(y_test,y_pred)\n",
    "print(f\"MSE={mse}\")\n",
    "print(y_pred)"
   ]
  },
  {
   "cell_type": "code",
   "execution_count": 8,
   "metadata": {},
   "outputs": [
    {
     "name": "stdout",
     "output_type": "stream",
     "text": [
      "[238814.37941843 269516.69132709]\n"
     ]
    }
   ],
   "source": [
    "x_predict=np.array([[700,2015,0],[600,2014,1]])\n",
    "print(lr.predict(x_predict))"
   ]
  },
  {
   "cell_type": "code",
   "execution_count": null,
   "metadata": {},
   "outputs": [],
   "source": []
  }
 ],
 "metadata": {
  "kernelspec": {
   "display_name": "Python 3",
   "language": "python",
   "name": "python3"
  },
  "language_info": {
   "codemirror_mode": {
    "name": "ipython",
    "version": 3
   },
   "file_extension": ".py",
   "mimetype": "text/x-python",
   "name": "python",
   "nbconvert_exporter": "python",
   "pygments_lexer": "ipython3",
   "version": "3.10.9"
  }
 },
 "nbformat": 4,
 "nbformat_minor": 2
}
